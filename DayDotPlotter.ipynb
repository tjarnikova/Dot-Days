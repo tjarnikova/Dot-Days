{
 "cells": [
  {
   "cell_type": "markdown",
   "id": "c64a8c9d",
   "metadata": {},
   "source": [
    "# Simple fillable year calendar\n",
    "\n",
    "Sometimes when attempting to consistently do a thing, it can feel nice to manually track progress. \n",
    "\n",
    "I've made a very minimalist calendar to that end, meant to be printed out. \n",
    "\n",
    "By default, it differentiates weekdays and weekends for easier counting. \n",
    "\n",
    "By default, it plots 2023, but it can plot any year, given a target year and the weekday of the first day of that year as integer (monday = 1 and so on).\n",
    "\n",
    "The colors, shapes, and relative sizes of the day markers are customizable, as is the label. \n",
    "\n",
    "I've made a few examples, saved as .jpgs in the `examples/` folder. \n",
    "\n",
    "If you use it, I hope it's constructive and/or fun."
   ]
  },
  {
   "cell_type": "code",
   "execution_count": 261,
   "id": "e56e9294",
   "metadata": {},
   "outputs": [],
   "source": [
    "import numpy as np\n",
    "import matplotlib.pyplot as plt\n",
    "import pandas as pd\n",
    "from matplotlib import rcParams\n",
    "rcParams['font.sans-serif'] = ['Gill Sans']\n",
    "rcParams['font.monospace'] = ['Menlo']   \n",
    "rcParams['axes.linewidth'] = 4 # calendar border"
   ]
  },
  {
   "cell_type": "code",
   "execution_count": 262,
   "id": "99bc01a0-3426-468f-a76f-32a78a97f39e",
   "metadata": {},
   "outputs": [
    {
     "data": {
      "text/html": [
       "<script>\n",
       "code_show=true; \n",
       "function code_toggle() {\n",
       " if (code_show){\n",
       " $('div.input').hide();\n",
       " } else {\n",
       " $('div.input').show();\n",
       " }\n",
       " code_show = !code_show\n",
       "} \n",
       "$( document ).ready(code_toggle);\n",
       "</script>\n",
       "<form action=\"javascript:code_toggle()\"><input type=\"submit\" value=\"Click here to toggle on/off the raw code.\"></form>"
      ],
      "text/plain": [
       "<IPython.core.display.HTML object>"
      ]
     },
     "execution_count": 262,
     "metadata": {},
     "output_type": "execute_result"
    }
   ],
   "source": [
    "from IPython.display import HTML\n",
    "\n",
    "HTML('''<script>\n",
    "code_show=true; \n",
    "function code_toggle() {\n",
    " if (code_show){\n",
    " $('div.input').hide();\n",
    " } else {\n",
    " $('div.input').show();\n",
    " }\n",
    " code_show = !code_show\n",
    "} \n",
    "$( document ).ready(code_toggle);\n",
    "</script>\n",
    "<form action=\"javascript:code_toggle()\"><input type=\"submit\" value=\"Click here to toggle on/off the raw code.\"></form>''')\n"
   ]
  },
  {
   "cell_type": "code",
   "execution_count": 263,
   "id": "4d496333",
   "metadata": {},
   "outputs": [],
   "source": [
    "def dayDotPlotter(yr = 2023, firstDayOfYear = 7, \n",
    "                  weekdayShape = 's', weekendShape = 'o', weekdayColor = 'slategrey', \\\n",
    "                  weekendColor = '#1F18C0', weekendOffset = 1.5, \\\n",
    "                  annot = '', ffamily = 'sans-serif', fname = './examples/default2023.jpg'):\n",
    "\n",
    "    '''\n",
    "    a simple day plotter. by default, it will plot the days of 2023, differentiating weekends. \n",
    "    \n",
    "    optional arguments:\n",
    "    \n",
    "    yr -- int, year to make a calendar for, 2023 as default\n",
    "    firstDayOfYear -- int, first day of year, \n",
    "        Monday = 1, Sunday = 7; 7 (for Sunday, 2023-01-01, as default)\n",
    "    weekdayShape -- string, shape of weekday marker\n",
    "        square by default: https://matplotlib.org/stable/api/markers_api.html\n",
    "    weekendShape -- circle by default\n",
    "    weekdayColor -- string, color of weekday marker\n",
    "        hex or named color: https://matplotlib.org/2.0.2/examples/color/named_colors.html\n",
    "    weekendColor -- string, as above\n",
    "        #1F18C0 (International Klein Blue) by default\n",
    "    weekendOffset -- float, size increase in weekend marker from weekday one\n",
    "        1.5 by default\n",
    "    annot -- string, anything that goes before the year in the bottom right\n",
    "        eg \"RUNS\" for \"RUNS 2023\"; empty by default\n",
    "    ffamily -- string defining font family\n",
    "        'sans-serif' is default, set to Gill Sans, \n",
    "        'monospace' is also defined, set to Menlo\n",
    "    fname -- string, path and file name for saving\n",
    "        ./examples/default2023.jpg' by default\n",
    "    '''\n",
    "    \n",
    "    leap = False\n",
    "    frog = yr%4 \n",
    "    if frog == 0:\n",
    "        leap = True #yrs divisible by 4 are leap\n",
    "    #establish days of year and day-of-week of first day of year. \n",
    "    if not leap:\n",
    "        daysInMonth = np.array([31,28,31,30,31,30,31,31,30,31,30,31]) \n",
    "        dayInYear = 365 \n",
    "    if leap:\n",
    "        daysInMonth = np.array([31,29,31,30,31,30,31,31,30,31,30,31])\n",
    "        dayInYear = 366\n",
    "\n",
    "    dayOfYear = np.arange(1,dayInYear+1,1)\n",
    "    dayOfMonth = np.copy(dayOfYear)\n",
    "    Month = np.copy(dayOfYear)\n",
    "\n",
    "    starts = np.zeros_like(daysInMonth)\n",
    "    ends = np.zeros_like(starts)\n",
    "    #get array of days of month\n",
    "    MonthTemplate = np.arange(1,32,1)\n",
    "    for i in range(0,12):\n",
    "        starts[i] = np.sum(daysInMonth[0:i])\n",
    "        ends[i] = np.sum(daysInMonth[0:i+1])\n",
    "        Month[starts[i]:ends[i]] = i+1 #month\n",
    "        dayOfMonth[starts[i]:ends[i]] = MonthTemplate[0:daysInMonth[i]]\n",
    "\n",
    "    a = np.arange(1,8,1) #day of week template, monday = 1, sunday = 7\n",
    "    dayOfWeekTemplate = np.tile(a, 54)\n",
    "    dayOfWeek2023 = dayOfWeekTemplate[firstDayOfYear-1:firstDayOfYear+dayInYear-1] \n",
    "    \n",
    "    try:\n",
    "    #font family for plotting:\n",
    "        rcParams['font.family'] = ffamily # font family\n",
    "    except:\n",
    "        pass\n",
    "    \n",
    "    ts = 13 #fontsize for \n",
    "    \n",
    "    fact = 1.5\n",
    "    ms = 6.9 # weekday marker size\n",
    "    #fig, ax = plt.subplots(1,1, figsize=(5*fact, 3*fact), facecolor='w', edgecolor='w')\n",
    "    fig, ax = plt.subplots(1,1, figsize=(6, 4), facecolor='w', edgecolor='w')\n",
    "    for i in range(0,dayInYear):\n",
    "        tday = dayOfWeek2023[i]\n",
    "        if tday <=5:\n",
    "            ax.plot(dayOfMonth[i],Month[i], marker = weekdayShape, \\\n",
    "                        markerfacecolor = 'w', markeredgecolor = weekdayColor, markersize = ms, markeredgewidth = 1)\n",
    "        else:\n",
    "            ax.plot(dayOfMonth[i],Month[i], marker = weekendShape, \\\n",
    "                        markerfacecolor = 'w', markeredgecolor = weekendColor, markersize = ms + weekendOffset, markeredgewidth = 1.5)\n",
    "    for i in range(1,13):\n",
    "        ax.text(-1,i+0.2, f'{i}', color =weekendColor, fontsize = ts)\n",
    "\n",
    "    ax.plot(-10,-10, marker = weekendShape, markerfacecolor = weekendColor, \\\n",
    "            linestyle = '', markeredgecolor = weekendColor, markersize = 12, label = f'{annot} {yr}')\n",
    "    \n",
    "\n",
    "    ax.tick_params(color=weekendColor, labelcolor=weekendColor)\n",
    "    for spine in ax.spines.values():\n",
    "        spine.set_edgecolor(weekendColor)\n",
    "\n",
    "    margin = 1.5    \n",
    "    ax.set_xlim([-2,33.5])\n",
    "    ax.set_ylim([1-margin,12+margin+1])\n",
    "    ax.invert_yaxis()\n",
    "    ax.set_xticks([])\n",
    "    ax.set_xticklabels([])\n",
    "    ax.set_yticks([])\n",
    "    ax.set_yticklabels([])\n",
    "    ax.legend(loc = 'lower right', frameon = False, labelcolor = weekendColor, fontsize = ts+4)\n",
    "    plt.tight_layout()\n",
    "    plt.show()\n",
    "    fig.savefig(fname, dpi = 150)\n",
    "    \n",
    "    "
   ]
  },
  {
   "cell_type": "markdown",
   "id": "0beffe79",
   "metadata": {},
   "source": [
    "#### here's the default calendar that dayDotPlotter makes:"
   ]
  },
  {
   "cell_type": "code",
   "execution_count": 264,
   "id": "792ee26b",
   "metadata": {},
   "outputs": [
    {
     "data": {
      "image/png": "[encoded data removed]",
      "text/plain": [
       "<Figure size 600x400 with 1 Axes>"
      ]
     },
     "metadata": {},
     "output_type": "display_data"
    }
   ],
   "source": [
    "dayDotPlotter()"
   ]
  },
  {
   "cell_type": "markdown",
   "id": "97a2c5c8",
   "metadata": {},
   "source": [
    "#### it has multiple optional arguments that allow for customization of the calendar\n",
    "\n",
    "They are easily accessible with the help() function:"
   ]
  },
  {
   "cell_type": "code",
   "execution_count": 265,
   "id": "ac916946-c5bb-4387-8596-7c94c303f740",
   "metadata": {},
   "outputs": [
    {
     "name": "stdout",
     "output_type": "stream",
     "text": [
      "Help on function dayDotPlotter in module __main__:\n",
      "\n",
      "dayDotPlotter(yr=2023, firstDayOfYear=7, weekdayShape='s', weekendShape='o', weekdayColor='slategrey', weekendColor='#1F18C0', weekendOffset=1.5, annot='', ffamily='sans-serif', fname='./examples/default2023.jpg')\n",
      "    a simple day plotter. by default, it will plot the days of 2023, differentiating weekends. \n",
      "    \n",
      "    optional arguments:\n",
      "    \n",
      "    yr -- int, year to make a calendar for, 2023 as default\n",
      "    firstDayOfYear -- int, first day of year, \n",
      "        Monday = 1, Sunday = 7; 7 (for Sunday, 2023-01-01, as default)\n",
      "    weekdayShape -- string, shape of weekday marker\n",
      "        square by default: https://matplotlib.org/stable/api/markers_api.html\n",
      "    weekendShape -- circle by default\n",
      "    weekdayColor -- string, color of weekday marker\n",
      "        hex or named color: https://matplotlib.org/2.0.2/examples/color/named_colors.html\n",
      "    weekendColor -- string, as above\n",
      "        #1F18C0 (International Klein Blue) by default\n",
      "    weekendOffset -- float, size increase in weekend marker from weekday one\n",
      "        1.5 by default\n",
      "    annot -- string, anything that goes before the year in the bottom right\n",
      "        eg \"RUNS\" for \"RUNS 2023\"; empty by default\n",
      "    ffamily -- string defining font family\n",
      "        'sans-serif' is default, set to Gill Sans, \n",
      "        'monospace' is also defined, set to Menlo\n",
      "    fname -- string, path and file name for saving\n",
      "        ./examples/default2023.jpg' by default\n",
      "\n"
     ]
    }
   ],
   "source": [
    "help(dayDotPlotter)"
   ]
  },
  {
   "cell_type": "markdown",
   "id": "8e25d6d5",
   "metadata": {},
   "source": [
    "#### here are some examples of simple variations"
   ]
  },
  {
   "cell_type": "code",
   "execution_count": 266,
   "id": "35658cdd",
   "metadata": {},
   "outputs": [
    {
     "data": {
      "image/png": "[encoded data removed]",
      "text/plain": [
       "<Figure size 600x400 with 1 Axes>"
      ]
     },
     "metadata": {},
     "output_type": "display_data"
    }
   ],
   "source": [
    "weekdayShape = '^'\n",
    "weekendShape = 'v'\n",
    "weekdayColor = 'r'\n",
    "weekendColor = 'b'\n",
    "weekendOffset = 0\n",
    "annot = 'RUNS'\n",
    "fname = './examples/triRUNS2023.jpg'\n",
    "dayDotPlotter(weekdayShape = weekdayShape, weekendShape = weekendShape, \\\n",
    "             weekdayColor = weekdayColor, weekendColor = weekendColor, \\\n",
    "             weekendOffset = weekendOffset, annot = annot, fname = fname )"
   ]
  },
  {
   "cell_type": "code",
   "execution_count": null,
   "id": "e2b97948",
   "metadata": {},
   "outputs": [],
   "source": [
    "weekdayShape = 'h'\n",
    "weekendShape = 'H'\n",
    "weekdayColor = 'grey'\n",
    "weekendColor = 'k'\n",
    "weekendOffset = 0\n",
    "annot = 'SLEEP'\n",
    "ffamily = 'monospace'\n",
    "fname = './examples/monosleep2023.jpg'\n",
    "dayDotPlotter(weekdayShape = weekdayShape, weekendShape = weekendShape, \\\n",
    "             weekdayColor = weekdayColor, weekendColor = weekendColor, \\\n",
    "             weekendOffset = weekendOffset, annot = annot, fname = fname, ffamily = ffamily)"
   ]
  },
  {
   "cell_type": "code",
   "execution_count": null,
   "id": "eac5a619",
   "metadata": {},
   "outputs": [],
   "source": [
    "yr = 2024\n",
    "firstDayOfYear = 1\n",
    "weekdayShape = '>'\n",
    "weekendShape = '<'\n",
    "weekdayColor = 'darkkhaki'\n",
    "weekendColor = 'forestgreen'\n",
    "weekendOffset = 1\n",
    "annot = 'reasonable optimism'\n",
    "fname = './examples/optimism2024.jpg'\n",
    "dayDotPlotter(yr = yr, firstDayOfYear = 1, \n",
    "              weekdayShape = weekdayShape, weekendShape = weekendShape, \\\n",
    "             weekdayColor = weekdayColor, weekendColor = weekendColor, \\\n",
    "             weekendOffset = weekendOffset, annot = annot, fname = fname)"
   ]
  },
  {
   "cell_type": "code",
   "execution_count": null,
   "id": "97d3ae97",
   "metadata": {},
   "outputs": [],
   "source": []
  },
  {
   "cell_type": "code",
   "execution_count": null,
   "id": "d65a73b1",
   "metadata": {},
   "outputs": [],
   "source": []
  },
  {
   "cell_type": "code",
   "execution_count": null,
   "id": "4e516889",
   "metadata": {},
   "outputs": [],
   "source": []
  },
  {
   "cell_type": "code",
   "execution_count": null,
   "id": "e04376d2",
   "metadata": {},
   "outputs": [],
   "source": []
  },
  {
   "cell_type": "code",
   "execution_count": null,
   "id": "4aa4844b",
   "metadata": {},
   "outputs": [],
   "source": []
  },
  {
   "cell_type": "code",
   "execution_count": null,
   "id": "9095621e",
   "metadata": {},
   "outputs": [],
   "source": []
  }
 ],
 "metadata": {
  "kernelspec": {
   "display_name": "Python 3 (ipykernel)",
   "language": "python",
   "name": "python3"
  },
  "language_info": {
   "codemirror_mode": {
    "name": "ipython",
    "version": 3
   },
   "file_extension": ".py",
   "mimetype": "text/x-python",
   "name": "python",
   "nbconvert_exporter": "python",
   "pygments_lexer": "ipython3",
   "version": "3.9.13"
  }
 },
 "nbformat": 4,
 "nbformat_minor": 5
}
